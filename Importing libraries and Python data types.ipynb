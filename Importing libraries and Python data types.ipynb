{
 "cells": [
  {
   "cell_type": "markdown",
   "id": "0950173a",
   "metadata": {},
   "source": [
    "# Contents"
   ]
  },
  {
   "cell_type": "markdown",
   "id": "96e200ed",
   "metadata": {},
   "source": [
    "#### 01- Import necessary Libraries\n",
    "#### 02- Data Types "
   ]
  },
  {
   "cell_type": "markdown",
   "id": "1f50db88",
   "metadata": {},
   "source": [
    "## 01. Importing Libraries"
   ]
  },
  {
   "cell_type": "code",
   "execution_count": 1,
   "id": "96350bb9",
   "metadata": {},
   "outputs": [],
   "source": [
    "# Importing Libraries\n",
    "import pandas as pd\n",
    "import numpy as np\n",
    "import os"
   ]
  },
  {
   "cell_type": "markdown",
   "id": "adeaf20a",
   "metadata": {},
   "source": [
    "## 02. Python Data Types"
   ]
  },
  {
   "cell_type": "code",
   "execution_count": 2,
   "id": "0da9e011",
   "metadata": {},
   "outputs": [
    {
     "name": "stdout",
     "output_type": "stream",
     "text": [
      "100\n"
     ]
    }
   ],
   "source": [
    "x = 70\n",
    "y = 30\n",
    "print ( x + y )"
   ]
  },
  {
   "cell_type": "code",
   "execution_count": 3,
   "id": "0a05b08f",
   "metadata": {},
   "outputs": [
    {
     "name": "stdout",
     "output_type": "stream",
     "text": [
      "100\n"
     ]
    }
   ],
   "source": [
    "x = 111\n",
    "y = 11\n",
    "print ( x - y )"
   ]
  },
  {
   "cell_type": "code",
   "execution_count": 5,
   "id": "246fbcc9",
   "metadata": {},
   "outputs": [
    {
     "name": "stdout",
     "output_type": "stream",
     "text": [
      "100\n"
     ]
    }
   ],
   "source": [
    "x = 75\n",
    "y = 50\n",
    "print ( x + x - y )"
   ]
  },
  {
   "cell_type": "code",
   "execution_count": 6,
   "id": "326fee86",
   "metadata": {},
   "outputs": [
    {
     "name": "stdout",
     "output_type": "stream",
     "text": [
      "2.003344481605351\n"
     ]
    }
   ],
   "source": [
    "x = 5.99\n",
    "y = 2.99\n",
    "print ( x / y )"
   ]
  },
  {
   "cell_type": "code",
   "execution_count": 8,
   "id": "90e574a9",
   "metadata": {},
   "outputs": [
    {
     "name": "stdout",
     "output_type": "stream",
     "text": [
      "Hello! How are you?\n"
     ]
    }
   ],
   "source": [
    "x = 'Hello! '\n",
    "y = 'How are you?'\n",
    "print ( x + y )"
   ]
  },
  {
   "cell_type": "code",
   "execution_count": 11,
   "id": "c38b4442",
   "metadata": {},
   "outputs": [
    {
     "name": "stdout",
     "output_type": "stream",
     "text": [
      "I am good. Thank you! What about you?\n"
     ]
    }
   ],
   "source": [
    "x = 'I am good. Thank you! '\n",
    "y = 'What about you?'\n",
    "print ( x + y )"
   ]
  },
  {
   "cell_type": "code",
   "execution_count": 14,
   "id": "d60ee30b",
   "metadata": {},
   "outputs": [
    {
     "data": {
      "text/plain": [
       "'hahahahahahahahahahahahahahahahahahahahahahahahahahahahahahahahahahahahahahahahahahahahahahahahahahahahahahahahahahahahahahahahahahahahahahahahahahahahahahahahahahahahahahahahahahahahahahahahahahahaha'"
      ]
     },
     "execution_count": 14,
     "metadata": {},
     "output_type": "execute_result"
    }
   ],
   "source": [
    "n = 'ha'\n",
    "n * 100"
   ]
  }
 ],
 "metadata": {
  "kernelspec": {
   "display_name": "Python 3 (ipykernel)",
   "language": "python",
   "name": "python3"
  },
  "language_info": {
   "codemirror_mode": {
    "name": "ipython",
    "version": 3
   },
   "file_extension": ".py",
   "mimetype": "text/x-python",
   "name": "python",
   "nbconvert_exporter": "python",
   "pygments_lexer": "ipython3",
   "version": "3.10.9"
  }
 },
 "nbformat": 4,
 "nbformat_minor": 5
}
